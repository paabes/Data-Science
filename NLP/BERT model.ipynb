{
 "cells": [
  {
   "cell_type": "code",
   "execution_count": 1,
   "metadata": {},
   "outputs": [],
   "source": [
    "import os\n",
    "import numpy as np\n",
    "import random\n",
    "from sklearn.model_selection import train_test_split\n",
    "from sklearn.feature_extraction.text import CountVectorizer, TfidfVectorizer\n",
    "from sklearn.metrics import f1_score\n",
    "\n",
    "import json"
   ]
  },
  {
   "cell_type": "markdown",
   "metadata": {},
   "source": [
    "### Load In Data"
   ]
  },
  {
   "cell_type": "markdown",
   "metadata": {},
   "source": [
    "#### Data Class"
   ]
  },
  {
   "cell_type": "code",
   "execution_count": 2,
   "metadata": {},
   "outputs": [],
   "source": [
    "class Review:\n",
    "    def __init__(self, category, text):\n",
    "        self.category = category\n",
    "        self.text = text    \n",
    "        \n",
    "class ReviewContainer:\n",
    "    def __init__(self, reviews):\n",
    "        self.reviews = reviews\n",
    "    \n",
    "    def get_text(self):\n",
    "        return [x.text for x in self.reviews]\n",
    "    \n",
    "    def get_y(self):\n",
    "        return [x.category for x in self.reviews]"
   ]
  },
  {
   "cell_type": "markdown",
   "metadata": {},
   "source": [
    "#### Prep Training/Test Data"
   ]
  },
  {
   "cell_type": "code",
   "execution_count": 3,
   "metadata": {},
   "outputs": [],
   "source": [
    "train_reviews = []\n",
    "all_categories = []\n",
    "for file in os.listdir('./data/training'):\n",
    "    category = file.strip('train_').split('.')[0]\n",
    "    all_categories.append(category)\n",
    "    with open(f'./data/training/{file}') as f:\n",
    "        for line in f:\n",
    "            review_json = json.loads(line)\n",
    "            review = Review(category, review_json['reviewText'])\n",
    "            train_reviews.append(review)\n",
    "\n",
    "train_container = ReviewContainer(train_reviews)"
   ]
  },
  {
   "cell_type": "code",
   "execution_count": 4,
   "metadata": {},
   "outputs": [],
   "source": [
    "test_reviews = []\n",
    "for file in os.listdir('./data/test'):\n",
    "    category = file.strip('test_').split('.')[0]\n",
    "    with open(f'./data/test/{file}') as f:\n",
    "        for line in f:\n",
    "            review_json = json.loads(line)\n",
    "            review = Review(category, review_json['reviewText'])\n",
    "            test_reviews.append(review)\n",
    "            \n",
    "test_container = ReviewContainer(test_reviews)"
   ]
  },
  {
   "cell_type": "code",
   "execution_count": 15,
   "metadata": {},
   "outputs": [
    {
     "name": "stdout",
     "output_type": "stream",
     "text": [
      "Requirement already satisfied: spacy-transformers in /opt/anaconda3/lib/python3.7/site-packages (1.0.1)\n",
      "Requirement already satisfied: torch>=1.5.0 in /opt/anaconda3/lib/python3.7/site-packages (from spacy-transformers) (1.8.0)\n",
      "Requirement already satisfied: spacy-alignments<1.0.0,>=0.7.2 in /opt/anaconda3/lib/python3.7/site-packages (from spacy-transformers) (0.7.2)\n",
      "Requirement already satisfied: transformers<4.3.0,>=3.1.0 in /opt/anaconda3/lib/python3.7/site-packages (from spacy-transformers) (4.2.2)\n",
      "Requirement already satisfied: importlib-metadata>=0.20 in /opt/anaconda3/lib/python3.7/site-packages (from spacy-transformers) (2.0.0)\n",
      "Requirement already satisfied: torchcontrib<0.1.0,>=0.0.2 in /opt/anaconda3/lib/python3.7/site-packages (from spacy-transformers) (0.0.2)\n",
      "Requirement already satisfied: ftfy<6.0.0,>=5.0.0 in /opt/anaconda3/lib/python3.7/site-packages (from spacy-transformers) (5.9)\n",
      "Requirement already satisfied: srsly<3.0.0,>=2.4.0 in /opt/anaconda3/lib/python3.7/site-packages (from spacy-transformers) (2.4.0)\n",
      "Requirement already satisfied: wcwidth in /opt/anaconda3/lib/python3.7/site-packages (from ftfy<6.0.0,>=5.0.0->spacy-transformers) (0.2.5)\n",
      "Requirement already satisfied: zipp>=0.5 in /opt/anaconda3/lib/python3.7/site-packages (from importlib-metadata>=0.20->spacy-transformers) (3.4.0)\n",
      "Requirement already satisfied: catalogue<2.1.0,>=2.0.1 in /opt/anaconda3/lib/python3.7/site-packages (from srsly<3.0.0,>=2.4.0->spacy-transformers) (2.0.1)\n",
      "Requirement already satisfied: typing-extensions in /opt/anaconda3/lib/python3.7/site-packages (from torch>=1.5.0->spacy-transformers) (3.7.4.3)\n",
      "Requirement already satisfied: numpy in /opt/anaconda3/lib/python3.7/site-packages (from torch>=1.5.0->spacy-transformers) (1.19.2)\n",
      "Requirement already satisfied: sacremoses in /opt/anaconda3/lib/python3.7/site-packages (from transformers<4.3.0,>=3.1.0->spacy-transformers) (0.0.43)\n",
      "Requirement already satisfied: requests in /opt/anaconda3/lib/python3.7/site-packages (from transformers<4.3.0,>=3.1.0->spacy-transformers) (2.25.1)\n",
      "Requirement already satisfied: filelock in /opt/anaconda3/lib/python3.7/site-packages (from transformers<4.3.0,>=3.1.0->spacy-transformers) (3.0.12)\n",
      "Requirement already satisfied: regex!=2019.12.17 in /opt/anaconda3/lib/python3.7/site-packages (from transformers<4.3.0,>=3.1.0->spacy-transformers) (2020.11.13)\n",
      "Requirement already satisfied: packaging in /opt/anaconda3/lib/python3.7/site-packages (from transformers<4.3.0,>=3.1.0->spacy-transformers) (20.9)\n",
      "Requirement already satisfied: tqdm>=4.27 in /opt/anaconda3/lib/python3.7/site-packages (from transformers<4.3.0,>=3.1.0->spacy-transformers) (4.59.0)\n",
      "Requirement already satisfied: tokenizers==0.9.4 in /opt/anaconda3/lib/python3.7/site-packages (from transformers<4.3.0,>=3.1.0->spacy-transformers) (0.9.4)\n",
      "Requirement already satisfied: pyparsing>=2.0.2 in /opt/anaconda3/lib/python3.7/site-packages (from packaging->transformers<4.3.0,>=3.1.0->spacy-transformers) (2.4.7)\n",
      "Requirement already satisfied: urllib3<1.27,>=1.21.1 in /opt/anaconda3/lib/python3.7/site-packages (from requests->transformers<4.3.0,>=3.1.0->spacy-transformers) (1.26.3)\n",
      "Requirement already satisfied: idna<3,>=2.5 in /opt/anaconda3/lib/python3.7/site-packages (from requests->transformers<4.3.0,>=3.1.0->spacy-transformers) (2.10)\n",
      "Requirement already satisfied: chardet<5,>=3.0.2 in /opt/anaconda3/lib/python3.7/site-packages (from requests->transformers<4.3.0,>=3.1.0->spacy-transformers) (4.0.0)\n",
      "Requirement already satisfied: certifi>=2017.4.17 in /opt/anaconda3/lib/python3.7/site-packages (from requests->transformers<4.3.0,>=3.1.0->spacy-transformers) (2020.12.5)\n",
      "Requirement already satisfied: click in /opt/anaconda3/lib/python3.7/site-packages (from sacremoses->transformers<4.3.0,>=3.1.0->spacy-transformers) (7.1.2)\n",
      "Requirement already satisfied: joblib in /opt/anaconda3/lib/python3.7/site-packages (from sacremoses->transformers<4.3.0,>=3.1.0->spacy-transformers) (1.0.1)\n",
      "Requirement already satisfied: six in /opt/anaconda3/lib/python3.7/site-packages (from sacremoses->transformers<4.3.0,>=3.1.0->spacy-transformers) (1.15.0)\n",
      "\u001b[38;5;3m⚠ Skipping model package dependencies and setting `--no-deps`. You\n",
      "don't seem to have the spaCy package itself installed (maybe because you've\n",
      "built from source?), so installing the model dependencies would cause spaCy to\n",
      "be downloaded, which probably isn't what you want. If the model package has\n",
      "other dependencies, you'll have to install them manually.\u001b[0m\n",
      "Collecting en_trf_bertbaseuncased_lg==2.2.0\n",
      "  Downloading https://github.com/explosion/spacy-models/releases/download/en_trf_bertbaseuncased_lg-2.2.0/en_trf_bertbaseuncased_lg-2.2.0.tar.gz (405.8 MB)\n",
      "\u001b[K     |████████████████████████████████| 405.8 MB 5.4 MB/s eta 0:00:016  |▊                               | 9.5 MB 176 kB/s eta 0:37:24     |██▌                             | 31.1 MB 9.8 MB/s eta 0:00:39     |███▊                            | 47.4 MB 3.6 MB/s eta 0:01:39     |█████▊                          | 72.0 MB 2.6 MB/s eta 0:02:09     |█████████▊                      | 124.0 MB 5.3 MB/s eta 0:00:54     |████████████▋                   | 159.5 MB 7.6 MB/s eta 0:00:33     |███████████████▌                | 196.5 MB 3.5 MB/s eta 0:01:00     |███████████████▋                | 198.4 MB 3.5 MB/s eta 0:00:59     |██████████████████              | 226.9 MB 2.3 MB/s eta 0:01:20█████████████▌             | 234.5 MB 487 kB/s eta 0:05:52     |████████████████████████▎       | 308.5 MB 7.4 MB/s eta 0:00:14██████████████▍       | 309.1 MB 7.4 MB/s eta 0:00:14██████████████▍       | 309.7 MB 6.9 MB/s eta 0:00:14     |█████████████████████████████▍  | 373.3 MB 5.5 MB/s eta 0:00:06     |██████████████████████████████▍ | 384.7 MB 5.5 MB/s eta 0:00:04\n",
      "\u001b[?25hBuilding wheels for collected packages: en-trf-bertbaseuncased-lg\n",
      "  Building wheel for en-trf-bertbaseuncased-lg (setup.py) ... \u001b[?25ldone\n",
      "\u001b[?25h  Created wheel for en-trf-bertbaseuncased-lg: filename=en_trf_bertbaseuncased_lg-2.2.0-py3-none-any.whl size=405819943 sha256=64deda3af492decad28f6488e079ec15b370159620367c09c0bbd0c851c1b04e\n",
      "  Stored in directory: /private/var/folders/b0/knymhp5x7qn9ybtn0c544wxr0000gn/T/pip-ephem-wheel-cache-2hn5u4aq/wheels/64/24/24/bd0f7e3fc200cb5ec62b0b06781253a6a8c087d30ff9da3f10\n",
      "Successfully built en-trf-bertbaseuncased-lg\n",
      "Installing collected packages: en-trf-bertbaseuncased-lg\n",
      "Successfully installed en-trf-bertbaseuncased-lg-2.2.0\n",
      "\u001b[38;5;2m✔ Download and installation successful\u001b[0m\n",
      "You can now load the model via spacy.load('en_trf_bertbaseuncased_lg')\n"
     ]
    }
   ],
   "source": [
    "!pip install spacy-transformers\n",
    "!python -m spacy download en_trf_bertbaseuncased_lg"
   ]
  },
  {
   "cell_type": "code",
   "execution_count": 16,
   "metadata": {},
   "outputs": [],
   "source": [
    "import spacy\n",
    "import torch"
   ]
  },
  {
   "cell_type": "code",
   "execution_count": 8,
   "metadata": {},
   "outputs": [
    {
     "name": "stdout",
     "output_type": "stream",
     "text": [
      "\u001b[38;5;3m⚠ Skipping model package dependencies and setting `--no-deps`. You\n",
      "don't seem to have the spaCy package itself installed (maybe because you've\n",
      "built from source?), so installing the model dependencies would cause spaCy to\n",
      "be downloaded, which probably isn't what you want. If the model package has\n",
      "other dependencies, you'll have to install them manually.\u001b[0m\n",
      "Collecting en_core_web_sm==2.2.5\n",
      "  Downloading https://github.com/explosion/spacy-models/releases/download/en_core_web_sm-2.2.5/en_core_web_sm-2.2.5.tar.gz (12.0 MB)\n",
      "\u001b[K     |████████████████████████████████| 12.0 MB 5.6 MB/s eta 0:00:01    |██████████████████              | 6.8 MB 8.8 MB/s eta 0:00:01     |███████████████████████████████▍| 11.8 MB 5.6 MB/s eta 0:00:01\n",
      "\u001b[?25hBuilding wheels for collected packages: en-core-web-sm\n",
      "  Building wheel for en-core-web-sm (setup.py) ... \u001b[?25ldone\n",
      "\u001b[?25h  Created wheel for en-core-web-sm: filename=en_core_web_sm-2.2.5-py3-none-any.whl size=12011738 sha256=b5b72cf83ba9296ce2815e96fd7a134f75b02187c79803a680c8fc09c04d7214\n",
      "  Stored in directory: /private/var/folders/b0/knymhp5x7qn9ybtn0c544wxr0000gn/T/pip-ephem-wheel-cache-r0xkxuds/wheels/51/19/da/a3885266a3c241aff0ad2eb674ae058fd34a4870fef1c0a5a0\n",
      "Successfully built en-core-web-sm\n",
      "Installing collected packages: en-core-web-sm\n",
      "  Attempting uninstall: en-core-web-sm\n",
      "    Found existing installation: en-core-web-sm 2.1.0\n",
      "    Uninstalling en-core-web-sm-2.1.0:\n",
      "      Successfully uninstalled en-core-web-sm-2.1.0\n",
      "Successfully installed en-core-web-sm-2.2.5\n",
      "\u001b[38;5;2m✔ Download and installation successful\u001b[0m\n",
      "You can now load the model via spacy.load('en_core_web_sm')\n"
     ]
    }
   ],
   "source": [
    "#!python -m spacy download en_core_web_sm"
   ]
  },
  {
   "cell_type": "code",
   "execution_count": 13,
   "metadata": {},
   "outputs": [],
   "source": [
    "\n",
    "#nlp = spacy.load('en_core_web_sm')"
   ]
  },
  {
   "cell_type": "code",
   "execution_count": 20,
   "metadata": {},
   "outputs": [],
   "source": [
    "#nlp = spacy.load('en_trf_bertbaseuncased_lg')"
   ]
  },
  {
   "cell_type": "code",
   "execution_count": 12,
   "metadata": {},
   "outputs": [
    {
     "data": {
      "text/plain": [
       "'2.2.2'"
      ]
     },
     "execution_count": 12,
     "metadata": {},
     "output_type": "execute_result"
    }
   ],
   "source": [
    "spacy.__version__"
   ]
  },
  {
   "cell_type": "code",
   "execution_count": null,
   "metadata": {},
   "outputs": [],
   "source": [
    "#!python -m spacy download en_core_web_md"
   ]
  },
  {
   "cell_type": "code",
   "execution_count": null,
   "metadata": {},
   "outputs": [],
   "source": []
  },
  {
   "cell_type": "code",
   "execution_count": null,
   "metadata": {},
   "outputs": [],
   "source": []
  },
  {
   "cell_type": "code",
   "execution_count": null,
   "metadata": {},
   "outputs": [],
   "source": []
  },
  {
   "cell_type": "code",
   "execution_count": null,
   "metadata": {},
   "outputs": [],
   "source": []
  },
  {
   "cell_type": "code",
   "execution_count": null,
   "metadata": {},
   "outputs": [],
   "source": []
  },
  {
   "cell_type": "code",
   "execution_count": null,
   "metadata": {},
   "outputs": [],
   "source": []
  },
  {
   "cell_type": "code",
   "execution_count": null,
   "metadata": {},
   "outputs": [],
   "source": []
  }
 ],
 "metadata": {
  "kernelspec": {
   "display_name": "Python 3",
   "language": "python",
   "name": "python3"
  },
  "language_info": {
   "codemirror_mode": {
    "name": "ipython",
    "version": 3
   },
   "file_extension": ".py",
   "mimetype": "text/x-python",
   "name": "python",
   "nbconvert_exporter": "python",
   "pygments_lexer": "ipython3",
   "version": "3.7.10"
  }
 },
 "nbformat": 4,
 "nbformat_minor": 2
}
