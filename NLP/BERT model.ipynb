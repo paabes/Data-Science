{
 "cells": [
  {
   "cell_type": "code",
   "execution_count": 1,
   "metadata": {},
   "outputs": [],
   "source": [
    "import os\n",
    "import numpy as np\n",
    "import random\n",
    "from sklearn.model_selection import train_test_split\n",
    "from sklearn.feature_extraction.text import CountVectorizer, TfidfVectorizer\n",
    "from sklearn.metrics import f1_score\n",
    "\n",
    "import json"
   ]
  },
  {
   "cell_type": "markdown",
   "metadata": {},
   "source": [
    "### Load In Data"
   ]
  },
  {
   "cell_type": "markdown",
   "metadata": {},
   "source": [
    "#### Data Class"
   ]
  },
  {
   "cell_type": "code",
   "execution_count": 2,
   "metadata": {},
   "outputs": [],
   "source": [
    "class Review:\n",
    "    def __init__(self, category, text):\n",
    "        self.category = category\n",
    "        self.text = text    \n",
    "        \n",
    "class ReviewContainer:\n",
    "    def __init__(self, reviews):\n",
    "        self.reviews = reviews\n",
    "    \n",
    "    def get_text(self):\n",
    "        return [x.text for x in self.reviews]\n",
    "    \n",
    "    def get_y(self):\n",
    "        return [x.category for x in self.reviews]"
   ]
  },
  {
   "cell_type": "markdown",
   "metadata": {},
   "source": [
    "#### Prep Training/Test Data"
   ]
  },
  {
   "cell_type": "code",
   "execution_count": 3,
   "metadata": {},
   "outputs": [],
   "source": [
    "train_reviews = []\n",
    "all_categories = []\n",
    "for file in os.listdir('./data/training'):\n",
    "    category = file.strip('train_').split('.')[0]\n",
    "    all_categories.append(category)\n",
    "    with open(f'./data/training/{file}') as f:\n",
    "        for line in f:\n",
    "            review_json = json.loads(line)\n",
    "            review = Review(category, review_json['reviewText'])\n",
    "            train_reviews.append(review)\n",
    "\n",
    "train_container = ReviewContainer(train_reviews)"
   ]
  },
  {
   "cell_type": "code",
   "execution_count": 4,
   "metadata": {},
   "outputs": [],
   "source": [
    "test_reviews = []\n",
    "for file in os.listdir('./data/test'):\n",
    "    category = file.strip('test_').split('.')[0]\n",
    "    with open(f'./data/test/{file}') as f:\n",
    "        for line in f:\n",
    "            review_json = json.loads(line)\n",
    "            review = Review(category, review_json['reviewText'])\n",
    "            test_reviews.append(review)\n",
    "            \n",
    "test_container = ReviewContainer(test_reviews)"
   ]
  },
  {
   "cell_type": "code",
   "execution_count": 7,
   "metadata": {},
   "outputs": [
    {
     "name": "stdout",
     "output_type": "stream",
     "text": [
      "Requirement already satisfied: spacy-transformers in /opt/anaconda3/lib/python3.7/site-packages (1.0.1)\n",
      "Requirement already satisfied: transformers<4.3.0,>=3.1.0 in /opt/anaconda3/lib/python3.7/site-packages (from spacy-transformers) (4.2.2)\n",
      "Requirement already satisfied: torchcontrib<0.1.0,>=0.0.2 in /opt/anaconda3/lib/python3.7/site-packages (from spacy-transformers) (0.0.2)\n",
      "Requirement already satisfied: importlib-metadata>=0.20 in /opt/anaconda3/lib/python3.7/site-packages (from spacy-transformers) (2.0.0)\n",
      "Requirement already satisfied: torch>=1.5.0 in /opt/anaconda3/lib/python3.7/site-packages (from spacy-transformers) (1.8.0)\n",
      "Requirement already satisfied: srsly<3.0.0,>=2.4.0 in /opt/anaconda3/lib/python3.7/site-packages (from spacy-transformers) (2.4.0)\n",
      "Requirement already satisfied: spacy-alignments<1.0.0,>=0.7.2 in /opt/anaconda3/lib/python3.7/site-packages (from spacy-transformers) (0.7.2)\n",
      "Requirement already satisfied: ftfy<6.0.0,>=5.0.0 in /opt/anaconda3/lib/python3.7/site-packages (from spacy-transformers) (5.9)\n",
      "Requirement already satisfied: wcwidth in /opt/anaconda3/lib/python3.7/site-packages (from ftfy<6.0.0,>=5.0.0->spacy-transformers) (0.2.5)\n",
      "Requirement already satisfied: zipp>=0.5 in /opt/anaconda3/lib/python3.7/site-packages (from importlib-metadata>=0.20->spacy-transformers) (3.4.0)\n",
      "Requirement already satisfied: catalogue<2.1.0,>=2.0.1 in /opt/anaconda3/lib/python3.7/site-packages (from srsly<3.0.0,>=2.4.0->spacy-transformers) (2.0.1)\n",
      "Requirement already satisfied: typing-extensions in /opt/anaconda3/lib/python3.7/site-packages (from torch>=1.5.0->spacy-transformers) (3.7.4.3)\n",
      "Requirement already satisfied: numpy in /opt/anaconda3/lib/python3.7/site-packages (from torch>=1.5.0->spacy-transformers) (1.19.2)\n",
      "Requirement already satisfied: tqdm>=4.27 in /opt/anaconda3/lib/python3.7/site-packages (from transformers<4.3.0,>=3.1.0->spacy-transformers) (4.59.0)\n",
      "Requirement already satisfied: sacremoses in /opt/anaconda3/lib/python3.7/site-packages (from transformers<4.3.0,>=3.1.0->spacy-transformers) (0.0.43)\n",
      "Requirement already satisfied: regex!=2019.12.17 in /opt/anaconda3/lib/python3.7/site-packages (from transformers<4.3.0,>=3.1.0->spacy-transformers) (2020.11.13)\n",
      "Requirement already satisfied: packaging in /opt/anaconda3/lib/python3.7/site-packages (from transformers<4.3.0,>=3.1.0->spacy-transformers) (20.9)\n",
      "Requirement already satisfied: filelock in /opt/anaconda3/lib/python3.7/site-packages (from transformers<4.3.0,>=3.1.0->spacy-transformers) (3.0.12)\n",
      "Requirement already satisfied: requests in /opt/anaconda3/lib/python3.7/site-packages (from transformers<4.3.0,>=3.1.0->spacy-transformers) (2.25.1)\n",
      "Requirement already satisfied: tokenizers==0.9.4 in /opt/anaconda3/lib/python3.7/site-packages (from transformers<4.3.0,>=3.1.0->spacy-transformers) (0.9.4)\n",
      "Requirement already satisfied: pyparsing>=2.0.2 in /opt/anaconda3/lib/python3.7/site-packages (from packaging->transformers<4.3.0,>=3.1.0->spacy-transformers) (2.4.7)\n",
      "Requirement already satisfied: chardet<5,>=3.0.2 in /opt/anaconda3/lib/python3.7/site-packages (from requests->transformers<4.3.0,>=3.1.0->spacy-transformers) (4.0.0)\n",
      "Requirement already satisfied: urllib3<1.27,>=1.21.1 in /opt/anaconda3/lib/python3.7/site-packages (from requests->transformers<4.3.0,>=3.1.0->spacy-transformers) (1.26.3)\n",
      "Requirement already satisfied: idna<3,>=2.5 in /opt/anaconda3/lib/python3.7/site-packages (from requests->transformers<4.3.0,>=3.1.0->spacy-transformers) (2.10)\n",
      "Requirement already satisfied: certifi>=2017.4.17 in /opt/anaconda3/lib/python3.7/site-packages (from requests->transformers<4.3.0,>=3.1.0->spacy-transformers) (2020.12.5)\n",
      "Requirement already satisfied: six in /opt/anaconda3/lib/python3.7/site-packages (from sacremoses->transformers<4.3.0,>=3.1.0->spacy-transformers) (1.15.0)\n",
      "Requirement already satisfied: click in /opt/anaconda3/lib/python3.7/site-packages (from sacremoses->transformers<4.3.0,>=3.1.0->spacy-transformers) (7.1.2)\n",
      "Requirement already satisfied: joblib in /opt/anaconda3/lib/python3.7/site-packages (from sacremoses->transformers<4.3.0,>=3.1.0->spacy-transformers) (1.0.1)\n",
      "\n",
      "\u001b[38;5;1m✘ No compatible package found for 'en_trf_bertbaseuncased_lg' (spaCy\n",
      "v3.0.5)\u001b[0m\n",
      "\n"
     ]
    }
   ],
   "source": [
    "!pip install spacy-transformers\n",
    "!python -m spacy download en_trf_bertbaseuncased_lg"
   ]
  },
  {
   "cell_type": "code",
   "execution_count": 6,
   "metadata": {},
   "outputs": [],
   "source": [
    "import spacy\n",
    "import torch"
   ]
  },
  {
   "cell_type": "code",
   "execution_count": null,
   "metadata": {},
   "outputs": [],
   "source": []
  },
  {
   "cell_type": "code",
   "execution_count": null,
   "metadata": {},
   "outputs": [],
   "source": []
  }
 ],
 "metadata": {
  "kernelspec": {
   "display_name": "Python 3",
   "language": "python",
   "name": "python3"
  },
  "language_info": {
   "codemirror_mode": {
    "name": "ipython",
    "version": 3
   },
   "file_extension": ".py",
   "mimetype": "text/x-python",
   "name": "python",
   "nbconvert_exporter": "python",
   "pygments_lexer": "ipython3",
   "version": "3.7.10"
  }
 },
 "nbformat": 4,
 "nbformat_minor": 2
}
