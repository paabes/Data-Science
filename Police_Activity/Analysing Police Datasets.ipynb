{
 "cells": [
  {
   "cell_type": "code",
   "execution_count": 100,
   "id": "compressed-director",
   "metadata": {},
   "outputs": [
    {
     "name": "stdout",
     "output_type": "stream",
     "text": [
      "  state   stop_date stop_time  county_name driver_gender driver_race  \\\n",
      "0    RI  2005-01-04     12:55          NaN             M       White   \n",
      "1    RI  2005-01-23     23:15          NaN             M       White   \n",
      "2    RI  2005-02-17     04:15          NaN             M       White   \n",
      "3    RI  2005-02-20     17:15          NaN             M       White   \n",
      "4    RI  2005-02-24     01:20          NaN             F       White   \n",
      "\n",
      "                    violation_raw  violation  search_conducted search_type  \\\n",
      "0  Equipment/Inspection Violation  Equipment             False         NaN   \n",
      "1                        Speeding   Speeding             False         NaN   \n",
      "2                        Speeding   Speeding             False         NaN   \n",
      "3                Call for Service      Other             False         NaN   \n",
      "4                        Speeding   Speeding             False         NaN   \n",
      "\n",
      "    stop_outcome is_arrested stop_duration  drugs_related_stop district  \n",
      "0       Citation       False      0-15 Min               False  Zone X4  \n",
      "1       Citation       False      0-15 Min               False  Zone K3  \n",
      "2       Citation       False      0-15 Min               False  Zone X4  \n",
      "3  Arrest Driver        True     16-30 Min               False  Zone X1  \n",
      "4       Citation       False      0-15 Min               False  Zone X3  \n"
     ]
    }
   ],
   "source": [
    "import pandas as pd\n",
    "ri = pd.read_csv('police.csv')\n",
    "print(ri.head())"
   ]
  },
  {
   "cell_type": "code",
   "execution_count": 101,
   "id": "increased-filing",
   "metadata": {},
   "outputs": [
    {
     "name": "stdout",
     "output_type": "stream",
     "text": [
      "<class 'pandas.core.frame.DataFrame'>\n",
      "RangeIndex: 91741 entries, 0 to 91740\n",
      "Data columns (total 15 columns):\n",
      " #   Column              Non-Null Count  Dtype  \n",
      "---  ------              --------------  -----  \n",
      " 0   state               91741 non-null  object \n",
      " 1   stop_date           91741 non-null  object \n",
      " 2   stop_time           91741 non-null  object \n",
      " 3   county_name         0 non-null      float64\n",
      " 4   driver_gender       86536 non-null  object \n",
      " 5   driver_race         86539 non-null  object \n",
      " 6   violation_raw       86539 non-null  object \n",
      " 7   violation           86539 non-null  object \n",
      " 8   search_conducted    91741 non-null  bool   \n",
      " 9   search_type         3307 non-null   object \n",
      " 10  stop_outcome        86539 non-null  object \n",
      " 11  is_arrested         86539 non-null  object \n",
      " 12  stop_duration       86539 non-null  object \n",
      " 13  drugs_related_stop  91741 non-null  bool   \n",
      " 14  district            91741 non-null  object \n",
      "dtypes: bool(2), float64(1), object(12)\n",
      "memory usage: 9.3+ MB\n",
      "None\n"
     ]
    }
   ],
   "source": [
    "print(ri.info())"
   ]
  },
  {
   "cell_type": "code",
   "execution_count": 102,
   "id": "sophisticated-observer",
   "metadata": {},
   "outputs": [
    {
     "name": "stdout",
     "output_type": "stream",
     "text": [
      "state                     0\n",
      "stop_date                 0\n",
      "stop_time                 0\n",
      "county_name           91741\n",
      "driver_gender          5205\n",
      "driver_race            5202\n",
      "violation_raw          5202\n",
      "violation              5202\n",
      "search_conducted          0\n",
      "search_type           88434\n",
      "stop_outcome           5202\n",
      "is_arrested            5202\n",
      "stop_duration          5202\n",
      "drugs_related_stop        0\n",
      "district                  0\n",
      "dtype: int64\n"
     ]
    }
   ],
   "source": [
    "print(ri.isnull().sum())"
   ]
  },
  {
   "cell_type": "markdown",
   "id": "empty-identifier",
   "metadata": {},
   "source": [
    "#### since column county_name contains zero non-null values and all data entries are from the same state, we can drop these two columns"
   ]
  },
  {
   "cell_type": "code",
   "execution_count": 103,
   "id": "sharing-crest",
   "metadata": {},
   "outputs": [
    {
     "name": "stdout",
     "output_type": "stream",
     "text": [
      "(91741, 15)\n",
      "(91741, 13)\n"
     ]
    }
   ],
   "source": [
    "print(ri.shape)\n",
    "\n",
    "ri.drop(['county_name', 'state'], axis='columns', inplace=True)\n",
    "\n",
    "print(ri.shape)"
   ]
  },
  {
   "cell_type": "code",
   "execution_count": 104,
   "id": "advanced-essay",
   "metadata": {},
   "outputs": [
    {
     "name": "stdout",
     "output_type": "stream",
     "text": [
      "stop_date                 0\n",
      "stop_time                 0\n",
      "driver_gender          5205\n",
      "driver_race            5202\n",
      "violation_raw          5202\n",
      "violation              5202\n",
      "search_conducted          0\n",
      "search_type           88434\n",
      "stop_outcome           5202\n",
      "is_arrested            5202\n",
      "stop_duration          5202\n",
      "drugs_related_stop        0\n",
      "district                  0\n",
      "dtype: int64\n",
      "\n",
      "\n",
      "stop_date                 0\n",
      "stop_time                 0\n",
      "driver_gender             0\n",
      "driver_race               0\n",
      "violation_raw             0\n",
      "violation                 0\n",
      "search_conducted          0\n",
      "search_type           83229\n",
      "stop_outcome              0\n",
      "is_arrested               0\n",
      "stop_duration             0\n",
      "drugs_related_stop        0\n",
      "district                  0\n",
      "dtype: int64\n",
      "\n",
      "\n",
      "(86536, 13)\n"
     ]
    }
   ],
   "source": [
    "print(ri.isnull().sum())\n",
    "\n",
    "# Drop all rows that are missing 'driver_gender'\n",
    "ri.dropna(subset=['driver_gender'], inplace=True)\n",
    "\n",
    "print('\\n')\n",
    "print(ri.isnull().sum())\n",
    "print('\\n')\n",
    "print(ri.shape)"
   ]
  },
  {
   "cell_type": "markdown",
   "id": "careful-possibility",
   "metadata": {},
   "source": [
    "#### Let's now check and fix data types of features"
   ]
  },
  {
   "cell_type": "code",
   "execution_count": 105,
   "id": "organizational-abortion",
   "metadata": {},
   "outputs": [
    {
     "data": {
      "text/plain": [
       "stop_date             object\n",
       "stop_time             object\n",
       "driver_gender         object\n",
       "driver_race           object\n",
       "violation_raw         object\n",
       "violation             object\n",
       "search_conducted        bool\n",
       "search_type           object\n",
       "stop_outcome          object\n",
       "is_arrested           object\n",
       "stop_duration         object\n",
       "drugs_related_stop      bool\n",
       "district              object\n",
       "dtype: object"
      ]
     },
     "execution_count": 105,
     "metadata": {},
     "output_type": "execute_result"
    }
   ],
   "source": [
    "ri.dtypes"
   ]
  },
  {
   "cell_type": "markdown",
   "id": "absent-belgium",
   "metadata": {},
   "source": [
    "#### Let's begin with is_arrested column, which would make sense to be boolean since one is either arrested or not arrested"
   ]
  },
  {
   "cell_type": "code",
   "execution_count": 106,
   "id": "capital-lodge",
   "metadata": {},
   "outputs": [
    {
     "name": "stdout",
     "output_type": "stream",
     "text": [
      "0    False\n",
      "1    False\n",
      "2    False\n",
      "3     True\n",
      "4    False\n",
      "Name: is_arrested, dtype: object\n",
      "bool\n"
     ]
    }
   ],
   "source": [
    "print(ri.is_arrested.head())\n",
    "\n",
    "# Change the data type of 'is_arrested' to 'bool'\n",
    "ri['is_arrested'] = ri.is_arrested.apply(lambda x: bool(x))\n",
    "\n",
    "print(ri.is_arrested.dtype)"
   ]
  },
  {
   "cell_type": "markdown",
   "id": "intended-enemy",
   "metadata": {},
   "source": [
    "as a next step, let's merge date and time columns into a datetime object"
   ]
  },
  {
   "cell_type": "code",
   "execution_count": 107,
   "id": "mathematical-infrastructure",
   "metadata": {},
   "outputs": [
    {
     "data": {
      "text/html": [
       "<div>\n",
       "<style scoped>\n",
       "    .dataframe tbody tr th:only-of-type {\n",
       "        vertical-align: middle;\n",
       "    }\n",
       "\n",
       "    .dataframe tbody tr th {\n",
       "        vertical-align: top;\n",
       "    }\n",
       "\n",
       "    .dataframe thead th {\n",
       "        text-align: right;\n",
       "    }\n",
       "</style>\n",
       "<table border=\"1\" class=\"dataframe\">\n",
       "  <thead>\n",
       "    <tr style=\"text-align: right;\">\n",
       "      <th></th>\n",
       "      <th>stop_date</th>\n",
       "      <th>stop_time</th>\n",
       "    </tr>\n",
       "  </thead>\n",
       "  <tbody>\n",
       "    <tr>\n",
       "      <th>0</th>\n",
       "      <td>2005-01-04</td>\n",
       "      <td>12:55</td>\n",
       "    </tr>\n",
       "    <tr>\n",
       "      <th>1</th>\n",
       "      <td>2005-01-23</td>\n",
       "      <td>23:15</td>\n",
       "    </tr>\n",
       "    <tr>\n",
       "      <th>2</th>\n",
       "      <td>2005-02-17</td>\n",
       "      <td>04:15</td>\n",
       "    </tr>\n",
       "    <tr>\n",
       "      <th>3</th>\n",
       "      <td>2005-02-20</td>\n",
       "      <td>17:15</td>\n",
       "    </tr>\n",
       "    <tr>\n",
       "      <th>4</th>\n",
       "      <td>2005-02-24</td>\n",
       "      <td>01:20</td>\n",
       "    </tr>\n",
       "  </tbody>\n",
       "</table>\n",
       "</div>"
      ],
      "text/plain": [
       "    stop_date stop_time\n",
       "0  2005-01-04     12:55\n",
       "1  2005-01-23     23:15\n",
       "2  2005-02-17     04:15\n",
       "3  2005-02-20     17:15\n",
       "4  2005-02-24     01:20"
      ]
     },
     "execution_count": 107,
     "metadata": {},
     "output_type": "execute_result"
    }
   ],
   "source": [
    "ri[['stop_date', 'stop_time']].head()"
   ]
  },
  {
   "cell_type": "code",
   "execution_count": 108,
   "id": "monthly-western",
   "metadata": {},
   "outputs": [
    {
     "name": "stdout",
     "output_type": "stream",
     "text": [
      "stop_date                     object\n",
      "stop_time                     object\n",
      "driver_gender                 object\n",
      "driver_race                   object\n",
      "violation_raw                 object\n",
      "violation                     object\n",
      "search_conducted                bool\n",
      "search_type                   object\n",
      "stop_outcome                  object\n",
      "is_arrested                     bool\n",
      "stop_duration                 object\n",
      "drugs_related_stop              bool\n",
      "district                      object\n",
      "stop_datetime         datetime64[ns]\n",
      "dtype: object\n"
     ]
    }
   ],
   "source": [
    "# Concatenate 'stop_date' and 'stop_time' and separate by a space\n",
    "combined = ri.stop_date.str.cat(ri.stop_time, sep=' ')\n",
    "\n",
    "ri['stop_datetime'] = pd.to_datetime(combined)\n",
    "\n",
    "print(ri.dtypes)"
   ]
  },
  {
   "cell_type": "code",
   "execution_count": 109,
   "id": "critical-suggestion",
   "metadata": {},
   "outputs": [
    {
     "name": "stdout",
     "output_type": "stream",
     "text": [
      "DatetimeIndex(['2005-01-04 12:55:00', '2005-01-23 23:15:00',\n",
      "               '2005-02-17 04:15:00', '2005-02-20 17:15:00',\n",
      "               '2005-02-24 01:20:00', '2005-03-14 10:00:00',\n",
      "               '2005-03-29 21:55:00', '2005-04-04 21:25:00',\n",
      "               '2005-07-14 11:20:00', '2005-07-14 19:55:00',\n",
      "               ...\n",
      "               '2015-12-31 13:23:00', '2015-12-31 18:59:00',\n",
      "               '2015-12-31 19:13:00', '2015-12-31 20:20:00',\n",
      "               '2015-12-31 20:50:00', '2015-12-31 21:21:00',\n",
      "               '2015-12-31 21:59:00', '2015-12-31 22:04:00',\n",
      "               '2015-12-31 22:09:00', '2015-12-31 22:47:00'],\n",
      "              dtype='datetime64[ns]', name='stop_datetime', length=86536, freq=None)\n",
      "\n",
      "\n",
      "Index(['stop_date', 'stop_time', 'driver_gender', 'driver_race',\n",
      "       'violation_raw', 'violation', 'search_conducted', 'search_type',\n",
      "       'stop_outcome', 'is_arrested', 'stop_duration', 'drugs_related_stop',\n",
      "       'district'],\n",
      "      dtype='object')\n"
     ]
    }
   ],
   "source": [
    "# let's set 'stop_datetime' as the index\n",
    "ri.set_index('stop_datetime', inplace=True)\n",
    "\n",
    "print(ri.index)\n",
    "print('\\n')\n",
    "print(ri.columns)"
   ]
  },
  {
   "cell_type": "markdown",
   "id": "after-buying",
   "metadata": {},
   "source": [
    "### Exploring the relationship between gender and policing"
   ]
  },
  {
   "cell_type": "code",
   "execution_count": 110,
   "id": "plastic-concept",
   "metadata": {},
   "outputs": [
    {
     "name": "stdout",
     "output_type": "stream",
     "text": [
      "Speeding               48423\n",
      "Moving violation       16224\n",
      "Equipment              10921\n",
      "Other                   4409\n",
      "Registration/plates     3703\n",
      "Seat belt               2856\n",
      "Name: violation, dtype: int64\n",
      "\n",
      "\n",
      "Speeding               0.559571\n",
      "Moving violation       0.187483\n",
      "Equipment              0.126202\n",
      "Other                  0.050950\n",
      "Registration/plates    0.042791\n",
      "Seat belt              0.033004\n",
      "Name: violation, dtype: float64\n"
     ]
    }
   ],
   "source": [
    "# what kind of violatoins are there\n",
    "print(ri.violation.value_counts())\n",
    "\n",
    "print('\\n')\n",
    "# Express the counts as proportions\n",
    "print(ri.violation.value_counts(normalize=True))"
   ]
  },
  {
   "cell_type": "markdown",
   "id": "structured-address",
   "metadata": {},
   "source": [
    "##### let's see whether male and female drivers tend to commit different types of traffic violations."
   ]
  },
  {
   "cell_type": "code",
   "execution_count": 111,
   "id": "loaded-permit",
   "metadata": {},
   "outputs": [
    {
     "name": "stdout",
     "output_type": "stream",
     "text": [
      "Speeding               0.658114\n",
      "Moving violation       0.138218\n",
      "Equipment              0.105199\n",
      "Registration/plates    0.044418\n",
      "Other                  0.029738\n",
      "Seat belt              0.024312\n",
      "Name: violation, dtype: float64\n",
      "\n",
      "\n",
      "Speeding               0.522243\n",
      "Moving violation       0.206144\n",
      "Equipment              0.134158\n",
      "Other                  0.058985\n",
      "Registration/plates    0.042175\n",
      "Seat belt              0.036296\n",
      "Name: violation, dtype: float64\n"
     ]
    }
   ],
   "source": [
    "#DataFrame of female drivers\n",
    "female = ri[ri['driver_gender'] == 'F']\n",
    "\n",
    "#DataFrame of male drivers\n",
    "male = ri[ri['driver_gender'] == 'M']\n",
    "\n",
    "# proportions of violations by female drivers\n",
    "print(female.violation.value_counts(normalize=True))\n",
    "print('\\n')\n",
    "\n",
    "# proportions of violations by male drivers\n",
    "print(male.violation.value_counts(normalize=True))"
   ]
  },
  {
   "cell_type": "markdown",
   "id": "filled-asset",
   "metadata": {},
   "source": [
    "this shows that about two-thirds of female traffic stops are for speeding, whereas stops of males are more balanced among the six categories. This doesn't mean that females, according of this dataset, speed more often than males, however, since we didn't take into account the number of stops or drivers."
   ]
  },
  {
   "cell_type": "code",
   "execution_count": 112,
   "id": "dying-projection",
   "metadata": {},
   "outputs": [
    {
     "name": "stdout",
     "output_type": "stream",
     "text": [
      "<class 'pandas.core.frame.DataFrame'>\n",
      "DatetimeIndex: 86536 entries, 2005-01-04 12:55:00 to 2015-12-31 22:47:00\n",
      "Data columns (total 13 columns):\n",
      " #   Column              Non-Null Count  Dtype \n",
      "---  ------              --------------  ----- \n",
      " 0   stop_date           86536 non-null  object\n",
      " 1   stop_time           86536 non-null  object\n",
      " 2   driver_gender       86536 non-null  object\n",
      " 3   driver_race         86536 non-null  object\n",
      " 4   violation_raw       86536 non-null  object\n",
      " 5   violation           86536 non-null  object\n",
      " 6   search_conducted    86536 non-null  bool  \n",
      " 7   search_type         3307 non-null   object\n",
      " 8   stop_outcome        86536 non-null  object\n",
      " 9   is_arrested         86536 non-null  bool  \n",
      " 10  stop_duration       86536 non-null  object\n",
      " 11  drugs_related_stop  86536 non-null  bool  \n",
      " 12  district            86536 non-null  object\n",
      "dtypes: bool(3), object(10)\n",
      "memory usage: 7.5+ MB\n"
     ]
    }
   ],
   "source": [
    "ri.info()"
   ]
  },
  {
   "cell_type": "markdown",
   "id": "integrated-understanding",
   "metadata": {},
   "source": [
    "#### since the number one violation is speeding, let's compare the outcomes between males and females, in other words, does gender affect who gets a ticket for speeding?"
   ]
  },
  {
   "cell_type": "code",
   "execution_count": 113,
   "id": "aggressive-marsh",
   "metadata": {},
   "outputs": [
    {
     "name": "stdout",
     "output_type": "stream",
     "text": [
      "Citation            0.952192\n",
      "Warning             0.040074\n",
      "Arrest Driver       0.005752\n",
      "N/D                 0.000959\n",
      "Arrest Passenger    0.000639\n",
      "No Action           0.000383\n",
      "Name: stop_outcome, dtype: float64\n",
      "\n",
      "\n",
      "Citation            0.944595\n",
      "Warning             0.036184\n",
      "Arrest Driver       0.015895\n",
      "Arrest Passenger    0.001281\n",
      "No Action           0.001068\n",
      "N/D                 0.000976\n",
      "Name: stop_outcome, dtype: float64\n"
     ]
    }
   ],
   "source": [
    "# DataFrame of female drivers stopped for speeding\n",
    "female_and_speeding = ri[(ri.driver_gender == 'F') & (ri.violation == 'Speeding')]\n",
    "\n",
    "# DataFrame of male drivers stopped for speeding\n",
    "male_and_speeding = ri[(ri.driver_gender == 'M') & (ri.violation == 'Speeding')]\n",
    "\n",
    "# stop outcomes for female drivers as proportions\n",
    "print(female_and_speeding.stop_outcome.value_counts(normalize=True))\n",
    "print('\\n')\n",
    "\n",
    "# stop outcomes for male drivers as proportions\n",
    "print(male_and_speeding.stop_outcome.value_counts(normalize=True))"
   ]
  },
  {
   "cell_type": "markdown",
   "id": "unique-thesaurus",
   "metadata": {},
   "source": [
    "##### as you can see, the numbers are similar for males and females: about 95% of stops for speeding result in a ticket. Thus, the data fails to show that gender has an impact on who gets a ticket for speeding."
   ]
  },
  {
   "cell_type": "markdown",
   "id": "outdoor-paradise",
   "metadata": {},
   "source": [
    "#### Calculating search rates:"
   ]
  },
  {
   "cell_type": "code",
   "execution_count": 114,
   "id": "pharmaceutical-designation",
   "metadata": {},
   "outputs": [
    {
     "name": "stdout",
     "output_type": "stream",
     "text": [
      "bool\n",
      "False    0.961785\n",
      "True     0.038215\n",
      "Name: search_conducted, dtype: float64\n",
      "0.0382153092354627\n"
     ]
    }
   ],
   "source": [
    "print(ri.search_conducted.dtype)\n",
    "\n",
    "# search rate\n",
    "print(ri.search_conducted.value_counts(normalize=True))\n",
    "\n",
    "# same search rate, this time by taking the mean since dtype is bool\n",
    "print(ri.search_conducted.mean())"
   ]
  },
  {
   "cell_type": "code",
   "execution_count": 115,
   "id": "interior-interference",
   "metadata": {},
   "outputs": [
    {
     "name": "stdout",
     "output_type": "stream",
     "text": [
      "driver_gender\n",
      "F    0.019181\n",
      "M    0.045426\n",
      "Name: search_conducted, dtype: float64\n"
     ]
    }
   ],
   "source": [
    "# search rate for both groups\n",
    "print(ri.groupby(by='driver_gender').search_conducted.mean())"
   ]
  },
  {
   "cell_type": "markdown",
   "id": "plastic-drilling",
   "metadata": {},
   "source": [
    "###### Even though the search rate for males is much higher than for females, it's possible that the difference is mostly due to a second factor.\n",
    "\n",
    "###### For example, you might hypothesize that the search rate varies by violation type, and the difference in search rate between males and females is because they tend to commit different violations.\n",
    "\n",
    "###### one can test this hypothesis by examining the search rate for each combination of gender and violation. If the hypothesis was true, one would find that males and females are searched at about the same rate for each violation. "
   ]
  },
  {
   "cell_type": "code",
   "execution_count": 116,
   "id": "connected-chance",
   "metadata": {},
   "outputs": [
    {
     "name": "stdout",
     "output_type": "stream",
     "text": [
      "<class 'pandas.core.frame.DataFrame'>\n",
      "DatetimeIndex: 86536 entries, 2005-01-04 12:55:00 to 2015-12-31 22:47:00\n",
      "Data columns (total 13 columns):\n",
      " #   Column              Non-Null Count  Dtype \n",
      "---  ------              --------------  ----- \n",
      " 0   stop_date           86536 non-null  object\n",
      " 1   stop_time           86536 non-null  object\n",
      " 2   driver_gender       86536 non-null  object\n",
      " 3   driver_race         86536 non-null  object\n",
      " 4   violation_raw       86536 non-null  object\n",
      " 5   violation           86536 non-null  object\n",
      " 6   search_conducted    86536 non-null  bool  \n",
      " 7   search_type         3307 non-null   object\n",
      " 8   stop_outcome        86536 non-null  object\n",
      " 9   is_arrested         86536 non-null  bool  \n",
      " 10  stop_duration       86536 non-null  object\n",
      " 11  drugs_related_stop  86536 non-null  bool  \n",
      " 12  district            86536 non-null  object\n",
      "dtypes: bool(3), object(10)\n",
      "memory usage: 7.5+ MB\n"
     ]
    }
   ],
   "source": [
    "ri.info()"
   ]
  },
  {
   "cell_type": "code",
   "execution_count": 117,
   "id": "integral-camcorder",
   "metadata": {},
   "outputs": [
    {
     "name": "stdout",
     "output_type": "stream",
     "text": [
      "violation            driver_gender  search_conducted\n",
      "Equipment            F              False               0.960016\n",
      "                                    True                0.039984\n",
      "                     M              False               0.928504\n",
      "                                    True                0.071496\n",
      "Moving violation     F              False               0.960743\n",
      "                                    True                0.039257\n",
      "                     M              False               0.938476\n",
      "                                    True                0.061524\n",
      "Other                F              False               0.958982\n",
      "                                    True                0.041018\n",
      "                     M              False               0.953809\n",
      "                                    True                0.046191\n",
      "Registration/plates  F              False               0.945076\n",
      "                                    True                0.054924\n",
      "                     M              False               0.891198\n",
      "                                    True                0.108802\n",
      "Seat belt            F              False               0.982699\n",
      "                                    True                0.017301\n",
      "                     M              False               0.964881\n",
      "                                    True                0.035119\n",
      "Speeding             F              False               0.991691\n",
      "                                    True                0.008309\n",
      "                     M              False               0.972115\n",
      "                                    True                0.027885\n",
      "Name: search_conducted, dtype: float64\n"
     ]
    }
   ],
   "source": [
    "# search rate for each combination of gender and violation\n",
    "print(ri.groupby(['violation','driver_gender']).\\\n",
    "      search_conducted.value_counts(normalize=True))"
   ]
  },
  {
   "cell_type": "markdown",
   "id": "outside-voltage",
   "metadata": {},
   "source": [
    "#### as you can see, for all types of violations, the search rate is higher for males than for females, disproving the second-factor hypothesis."
   ]
  },
  {
   "cell_type": "markdown",
   "id": "insured-print",
   "metadata": {},
   "source": [
    "##### During a vehicle search, the police officer may pat down the driver to check if they have a weapon. This is known as a \"protective frisk.\" let's  check to see how many times \"Protective Frisk\" was the only search type."
   ]
  },
  {
   "cell_type": "code",
   "execution_count": 118,
   "id": "behind-paraguay",
   "metadata": {},
   "outputs": [
    {
     "name": "stdout",
     "output_type": "stream",
     "text": [
      "Incident to Arrest                                          1290\n",
      "Probable Cause                                               924\n",
      "Inventory                                                    219\n",
      "Reasonable Suspicion                                         214\n",
      "Protective Frisk                                             164\n",
      "Incident to Arrest,Inventory                                 123\n",
      "Incident to Arrest,Probable Cause                            100\n",
      "Probable Cause,Reasonable Suspicion                           54\n",
      "Incident to Arrest,Inventory,Probable Cause                   35\n",
      "Probable Cause,Protective Frisk                               35\n",
      "Incident to Arrest,Protective Frisk                           33\n",
      "Inventory,Probable Cause                                      25\n",
      "Protective Frisk,Reasonable Suspicion                         19\n",
      "Incident to Arrest,Inventory,Protective Frisk                 18\n",
      "Incident to Arrest,Probable Cause,Protective Frisk            13\n",
      "Inventory,Protective Frisk                                    12\n",
      "Incident to Arrest,Reasonable Suspicion                        8\n",
      "Probable Cause,Protective Frisk,Reasonable Suspicion           5\n",
      "Incident to Arrest,Probable Cause,Reasonable Suspicion         5\n",
      "Incident to Arrest,Inventory,Reasonable Suspicion              4\n",
      "Inventory,Reasonable Suspicion                                 2\n",
      "Incident to Arrest,Protective Frisk,Reasonable Suspicion       2\n",
      "Inventory,Probable Cause,Protective Frisk                      1\n",
      "Inventory,Probable Cause,Reasonable Suspicion                  1\n",
      "Inventory,Protective Frisk,Reasonable Suspicion                1\n",
      "Name: search_type, dtype: int64\n",
      "\n",
      "\n",
      "bool\n",
      "\n",
      "\n",
      "303\n"
     ]
    }
   ],
   "source": [
    "# Count of 'search_type' values\n",
    "print(ri.search_type.value_counts())\n",
    "print('\\n')\n",
    "\n",
    "# Checking if 'search_type' contains the string 'Protective Frisk'\n",
    "ri['frisk'] = ri.search_type.str.contains(\"Protective Frisk\", na=False)\n",
    "\n",
    "print(ri.frisk.dtype)\n",
    "print('\\n')\n",
    "print(ri.frisk.sum())"
   ]
  },
  {
   "cell_type": "markdown",
   "id": "regional-chile",
   "metadata": {},
   "source": [
    "###### It looks like there were 303 drivers in total who were frisked.\n",
    "\n",
    "let's now compare the rates at which female and male drivers are frisked during a search. Are males frisked more often than females, perhaps because police officers consider them to be higher risk?"
   ]
  },
  {
   "cell_type": "code",
   "execution_count": 119,
   "id": "duplicate-listing",
   "metadata": {},
   "outputs": [
    {
     "name": "stdout",
     "output_type": "stream",
     "text": [
      "0.09162382824312065\n",
      "driver_gender\n",
      "F    0.074561\n",
      "M    0.094353\n",
      "Name: frisk, dtype: float64\n"
     ]
    }
   ],
   "source": [
    "# DataFrame of stops in which a search was conducted\n",
    "searched = ri[ri.search_conducted == True]\n",
    "\n",
    "# Overall frisk rate\n",
    "print(searched.frisk.mean())\n",
    "\n",
    "# Frisk rate for each gender\n",
    "print(searched.groupby('driver_gender').frisk.mean())"
   ]
  },
  {
   "cell_type": "markdown",
   "id": "delayed-niger",
   "metadata": {},
   "source": [
    "The frisk rate seems to be higher for males than for females, though one can't conclude that this difference is caused simply by the driver's gender."
   ]
  },
  {
   "cell_type": "markdown",
   "id": "recorded-cargo",
   "metadata": {},
   "source": [
    "### Visualising statistics\n",
    "\n",
    "at first, let's try to find out whether arrest rate varies by the time of the day "
   ]
  },
  {
   "cell_type": "code",
   "execution_count": 120,
   "id": "excessive-portable",
   "metadata": {},
   "outputs": [
    {
     "name": "stdout",
     "output_type": "stream",
     "text": [
      "0.0355690117407784\n",
      "stop_datetime\n",
      "0     0.051431\n",
      "1     0.064932\n",
      "2     0.060798\n",
      "3     0.060549\n",
      "4     0.048000\n",
      "5     0.042781\n",
      "6     0.013813\n",
      "7     0.013032\n",
      "8     0.021854\n",
      "9     0.025206\n",
      "10    0.028213\n",
      "11    0.028897\n",
      "12    0.037399\n",
      "13    0.030776\n",
      "14    0.030605\n",
      "15    0.030679\n",
      "16    0.035281\n",
      "17    0.040619\n",
      "18    0.038204\n",
      "19    0.032245\n",
      "20    0.038107\n",
      "21    0.064541\n",
      "22    0.048666\n",
      "23    0.047592\n",
      "Name: is_arrested, dtype: float64\n"
     ]
    }
   ],
   "source": [
    "# overall arrest rate\n",
    "print(ri.is_arrested.mean())\n",
    "\n",
    "# hourly arrest rate\n",
    "print(ri.groupby(ri.index.hour).is_arrested.mean())\n",
    "hourly_arrest_rate = ri.groupby(ri.index.hour).is_arrested.mean()"
   ]
  },
  {
   "cell_type": "code",
   "execution_count": 121,
   "id": "decreased-helmet",
   "metadata": {},
   "outputs": [
    {
     "data": {
      "image/png": "[encoded data removed]",
      "text/plain": [
       "<Figure size 432x288 with 1 Axes>"
      ]
     },
     "metadata": {},
     "output_type": "display_data"
    }
   ],
   "source": [
    "import matplotlib.pyplot as plt\n",
    "\n",
    "# line plot of 'hourly_arrest_rate'\n",
    "hourly_arrest_rate.plot(kind='line')\n",
    "plt.xlabel('Hour')\n",
    "plt.ylabel('Arrest Rate')\n",
    "plt.title('Arrest Rate by Time of Day')\n",
    "plt.show()"
   ]
  },
  {
   "cell_type": "markdown",
   "id": "unique-change",
   "metadata": {},
   "source": [
    "###### The arrest rate seems to have a significant spike overnight, and then dips in the early morning hours.\n",
    "\n",
    "### Let's assess whether drug-related stops are becoming more common over time."
   ]
  },
  {
   "cell_type": "code",
   "execution_count": 122,
   "id": "neither-bedroom",
   "metadata": {},
   "outputs": [
    {
     "name": "stdout",
     "output_type": "stream",
     "text": [
      "stop_datetime\n",
      "2005-12-31    0.006501\n",
      "2006-12-31    0.007258\n",
      "2007-12-31    0.007970\n",
      "2008-12-31    0.007505\n",
      "2009-12-31    0.009889\n",
      "2010-12-31    0.010081\n",
      "2011-12-31    0.009731\n",
      "2012-12-31    0.009921\n",
      "2013-12-31    0.013094\n",
      "2014-12-31    0.013826\n",
      "2015-12-31    0.012266\n",
      "Freq: A-DEC, Name: drugs_related_stop, dtype: float64\n",
      "\n",
      "\n"
     ]
    },
    {
     "data": {
      "image/png": "[encoded data removed]",
      "text/plain": [
       "<Figure size 432x288 with 1 Axes>"
      ]
     },
     "metadata": {},
     "output_type": "display_data"
    }
   ],
   "source": [
    "# annual rate of drug-related stops\n",
    "print(ri.drugs_related_stop.resample('A').mean())\n",
    "print('\\n')\n",
    "annual_drug_rate = ri.drugs_related_stop.resample('A').mean()\n",
    "\n",
    "# plot of 'annual_drug_rate'\n",
    "annual_drug_rate.plot(kind='line')\n",
    "plt.show()"
   ]
  },
  {
   "cell_type": "markdown",
   "id": "civic-seeker",
   "metadata": {},
   "source": [
    "#### The rate of drug-related stops seems to have nearly doubled over the course of 10 years.\n",
    "\n",
    "One might hypothesize that the rate of vehicle searches was also increasing, which would have led to an increase in drug-related stops even if more drivers were not carrying drugs.\n",
    "\n",
    "let's test this hypothesis by calculating the annual search rate, and then plotting it against the annual drug rate. If the hypothesis is true, then we'll see both rates increasing over time."
   ]
  },
  {
   "cell_type": "code",
   "execution_count": 123,
   "id": "brief-catalyst",
   "metadata": {},
   "outputs": [
    {
     "data": {
      "image/png": "[encoded data removed]",
      "text/plain": [
       "<Figure size 432x288 with 2 Axes>"
      ]
     },
     "metadata": {},
     "output_type": "display_data"
    }
   ],
   "source": [
    "# annual search rate\n",
    "annual_search_rate = ri.search_conducted.resample('A').mean()\n",
    "annual = pd.concat([annual_drug_rate, annual_search_rate], axis='columns')\n",
    "# since oy scales are different, subplots would be a good idea\n",
    "annual.plot(subplots=True)\n",
    "plt.show()"
   ]
  },
  {
   "cell_type": "markdown",
   "id": "familiar-dodge",
   "metadata": {},
   "source": [
    "#### This is interesting, it turns out that the rate of drug-related stops increased even though the search rate decreased, disproving my hypothesis.\n",
    "\n",
    "The state of Rhode Island is broken into six police districts, also known as zones. let's find out how the zones compare in terms of what violations are caught by police."
   ]
  },
  {
   "cell_type": "code",
   "execution_count": 124,
   "id": "answering-costa",
   "metadata": {},
   "outputs": [
    {
     "data": {
      "text/plain": [
       "Zone X4    22503\n",
       "Zone K3    19560\n",
       "Zone K2    17662\n",
       "Zone X3    16174\n",
       "Zone K1     8296\n",
       "Zone X1     2341\n",
       "Name: district, dtype: int64"
      ]
     },
     "execution_count": 124,
     "metadata": {},
     "output_type": "execute_result"
    }
   ],
   "source": [
    "ri.district.value_counts()"
   ]
  },
  {
   "cell_type": "code",
   "execution_count": 125,
   "id": "handy-lighting",
   "metadata": {},
   "outputs": [
    {
     "name": "stdout",
     "output_type": "stream",
     "text": [
      "violation  Equipment  Moving violation  Other  Registration/plates  Seat belt  \\\n",
      "district                                                                        \n",
      "Zone K1          672              1254    290                  120          0   \n",
      "Zone K2         2061              2962    942                  768        481   \n",
      "Zone K3         2302              2898    705                  695        638   \n",
      "Zone X1          296               671    143                   38         74   \n",
      "Zone X3         2049              3086    769                  671        820   \n",
      "Zone X4         3541              5353   1560                 1411        843   \n",
      "\n",
      "violation  Speeding  \n",
      "district             \n",
      "Zone K1        5960  \n",
      "Zone K2       10448  \n",
      "Zone K3       12322  \n",
      "Zone X1        1119  \n",
      "Zone X3        8779  \n",
      "Zone X4        9795  \n",
      "\n",
      "\n",
      "violation  Equipment  Moving violation  Other  Registration/plates  Seat belt  \\\n",
      "district                                                                        \n",
      "Zone K1          672              1254    290                  120          0   \n",
      "Zone K2         2061              2962    942                  768        481   \n",
      "Zone K3         2302              2898    705                  695        638   \n",
      "\n",
      "violation  Speeding  \n",
      "district             \n",
      "Zone K1        5960  \n",
      "Zone K2       10448  \n",
      "Zone K3       12322  \n"
     ]
    }
   ],
   "source": [
    "# frequency table of districts and violations\n",
    "print(pd.crosstab(ri.district, ri.violation))\n",
    "all_zones = pd.crosstab(ri.district, ri.violation)\n",
    "\n",
    "print('\\n')\n",
    "\n",
    "print(all_zones.loc['Zone K1':'Zone K3'])\n",
    "k_zones = all_zones.loc['Zone K1':'Zone K3']"
   ]
  },
  {
   "cell_type": "code",
   "execution_count": 126,
   "id": "educated-official",
   "metadata": {},
   "outputs": [
    {
     "data": {
      "image/png": "[encoded data removed]",
      "text/plain": [
       "<Figure size 432x288 with 1 Axes>"
      ]
     },
     "metadata": {},
     "output_type": "display_data"
    }
   ],
   "source": [
    "# bar plot of 'k_zones'\n",
    "k_zones.plot(kind='bar')\n",
    "plt.show()"
   ]
  },
  {
   "cell_type": "code",
   "execution_count": 127,
   "id": "beautiful-donor",
   "metadata": {},
   "outputs": [
    {
     "data": {
      "image/png": "[encoded data removed]",
      "text/plain": [
       "<Figure size 432x288 with 1 Axes>"
      ]
     },
     "metadata": {},
     "output_type": "display_data"
    }
   ],
   "source": [
    "# stacked bar plots for better comparison\n",
    "k_zones.plot(kind='bar', stacked=True)\n",
    "plt.show()"
   ]
  },
  {
   "cell_type": "markdown",
   "id": "administrative-rhythm",
   "metadata": {},
   "source": [
    "#### The vast majority of traffic stops in Zone K1 seem to be for speeding, and Zones K2 and K3 are remarkably similar to one another in terms of violations."
   ]
  },
  {
   "cell_type": "markdown",
   "id": "pending-contamination",
   "metadata": {},
   "source": [
    "In the traffic stops dataset, the stop_duration column describes approximately how long the driver was detained by the officer, however, the durations are stored as strings, such as '0-15 Min' in order for it to be possible to analyze, it is necessary to convert them to numerical values, but the problem is, precise duration is not available, which means we have to estimate and replace ranges with certain integers, let's at first create a mapping dictionary:"
   ]
  },
  {
   "cell_type": "code",
   "execution_count": 128,
   "id": "graduate-tourism",
   "metadata": {},
   "outputs": [
    {
     "name": "stdout",
     "output_type": "stream",
     "text": [
      "['0-15 Min' '16-30 Min' '30+ Min']\n",
      "\n",
      "\n",
      "[ 8 23 45]\n"
     ]
    }
   ],
   "source": [
    "print(ri.stop_duration.unique())\n",
    "print('\\n')\n",
    "\n",
    "# dictionary that maps strings to integers\n",
    "mapping = {'0-15 Min':8, '16-30 Min':23, '30+ Min':45}\n",
    "\n",
    "# 'stop_duration' strings --> integers\n",
    "ri['stop_minutes'] = ri.stop_duration.map(mapping)\n",
    "\n",
    "print(ri.stop_minutes.unique())"
   ]
  },
  {
   "cell_type": "markdown",
   "id": "geographic-duration",
   "metadata": {},
   "source": [
    "#### let's now try to answer the the question: If you were stopped for a particular violation, how long might you expect to be detained?"
   ]
  },
  {
   "cell_type": "code",
   "execution_count": 129,
   "id": "comparative-dialogue",
   "metadata": {},
   "outputs": [
    {
     "name": "stdout",
     "output_type": "stream",
     "text": [
      "violation_raw\n",
      "APB                                 17.967033\n",
      "Call for Service                    22.124371\n",
      "Equipment/Inspection Violation      11.445655\n",
      "Motorist Assist/Courtesy            17.741463\n",
      "Other Traffic Violation             13.844490\n",
      "Registration Violation              13.736970\n",
      "Seatbelt Violation                   9.662815\n",
      "Special Detail/Directed Patrol      15.123632\n",
      "Speeding                            10.581562\n",
      "Suspicious Person                   14.910714\n",
      "Violation of City/Town Ordinance    13.254144\n",
      "Warrant                             24.055556\n",
      "Name: stop_minutes, dtype: float64\n",
      "\n",
      "\n"
     ]
    },
    {
     "data": {
      "image/png": "[encoded data removed]",
      "text/plain": [
       "<Figure size 432x288 with 1 Axes>"
      ]
     },
     "metadata": {},
     "output_type": "display_data"
    }
   ],
   "source": [
    "# proportion of 'stop_minutes' for each value in 'violation_raw'\n",
    "print(ri.groupby('violation_raw')['stop_minutes'].mean())\n",
    "print('\\n')\n",
    "\n",
    "stop_length = ri.groupby('violation_raw')['stop_minutes'].mean()\n",
    "stop_length.sort_values().plot(kind='barh')\n",
    "plt.show()"
   ]
  },
  {
   "cell_type": "markdown",
   "id": "conservative-athens",
   "metadata": {},
   "source": [
    "## Analyzing the effect of weather on policing\n",
    "\n",
    "weather data is contained in a separate dataset, let's at first check that data makes sence and is reliable"
   ]
  },
  {
   "cell_type": "code",
   "execution_count": 130,
   "id": "polar-weapon",
   "metadata": {},
   "outputs": [
    {
     "name": "stdout",
     "output_type": "stream",
     "text": [
      "              TMIN         TAVG         TMAX\n",
      "count  4017.000000  1217.000000  4017.000000\n",
      "mean     43.484441    52.493016    61.268608\n",
      "std      17.020298    17.830714    18.199517\n",
      "min      -5.000000     6.000000    15.000000\n",
      "25%      30.000000    39.000000    47.000000\n",
      "50%      44.000000    54.000000    62.000000\n",
      "75%      58.000000    68.000000    77.000000\n",
      "max      77.000000    86.000000   102.000000\n"
     ]
    },
    {
     "data": {
      "image/png": "[encoded data removed]",
      "text/plain": [
       "<Figure size 432x288 with 1 Axes>"
      ]
     },
     "metadata": {},
     "output_type": "display_data"
    }
   ],
   "source": [
    "weather = pd.read_csv('policeWeather.csv')\n",
    "print(weather[['TMIN', 'TAVG', 'TMAX']].describe())\n",
    "\n",
    "weather[['TMIN', 'TAVG', 'TMAX']].plot(kind='box')\n",
    "plt.show()"
   ]
  },
  {
   "cell_type": "markdown",
   "id": "dense-bahrain",
   "metadata": {},
   "source": [
    "#### The temperature data looks good so far: the TAVG values are in between TMIN and TMAX, and the measurements and ranges seem reasonable."
   ]
  },
  {
   "cell_type": "code",
   "execution_count": 131,
   "id": "decent-jacksonville",
   "metadata": {},
   "outputs": [
    {
     "name": "stdout",
     "output_type": "stream",
     "text": [
      "count    4017.000000\n",
      "mean       17.784167\n",
      "std         6.350720\n",
      "min         2.000000\n",
      "25%        14.000000\n",
      "50%        18.000000\n",
      "75%        22.000000\n",
      "max        43.000000\n",
      "Name: TDIFF, dtype: float64\n"
     ]
    },
    {
     "data": {
      "image/png": "[encoded data removed]",
      "text/plain": [
       "<Figure size 432x288 with 1 Axes>"
      ]
     },
     "metadata": {},
     "output_type": "display_data"
    }
   ],
   "source": [
    "weather['TDIFF']=weather.TMAX - weather.TMIN\n",
    "print(weather.TDIFF.describe())\n",
    "weather.TDIFF.hist(bins=20)\n",
    "plt.show()"
   ]
  },
  {
   "cell_type": "markdown",
   "id": "acoustic-silence",
   "metadata": {},
   "source": [
    "##### manually computing the min-max temperature difference shows that the TDIFF column has no negative values and its distribution is approximately normal, both of which are signs that the data is trustworthy.\n",
    "\n",
    "The weather DataFrame contains 20 columns that start with 'WT', each of which represents a bad weather condition. For example:\n",
    "\n",
    "WT05 indicates \"Hail\"\n",
    "WT11 indicates \"High or damaging winds\"\n",
    "WT17 indicates \"Freezing rain\"\n",
    "For every row in the dataset, each WT column contains either a 1 (meaning the condition was present that day) or NaN (meaning the condition was not present).\n",
    "\n",
    "we can quantify \"how bad\" the weather was each day by counting the number of 1 values in each row:"
   ]
  },
  {
   "cell_type": "code",
   "execution_count": 132,
   "id": "sealed-rebecca",
   "metadata": {},
   "outputs": [
    {
     "data": {
      "image/png": "[encoded data removed]",
      "text/plain": [
       "<Figure size 432x288 with 1 Axes>"
      ]
     },
     "metadata": {},
     "output_type": "display_data"
    }
   ],
   "source": [
    "import seaborn as sns\n",
    "sns.set()\n",
    "WT = weather.loc[:, 'WT01':'WT22']\n",
    "weather['bad_conditions'] = WT.sum(axis='columns')\n",
    "weather['bad_conditions'] = weather.bad_conditions.fillna(0).astype('int')\n",
    "weather.bad_conditions.hist()\n",
    "plt.show()"
   ]
  },
  {
   "cell_type": "markdown",
   "id": "virgin-think",
   "metadata": {},
   "source": [
    "##### It looks like many days didn't have any bad weather conditions, and only a small portion of days had more than four bad weather conditions. now let's rate the weather conditions and come up with some rating system:\n",
    "\n",
    "since the counts range from 0 to 9, they can be converted to ratings as follows:\n",
    "\n",
    "Convert 0 to 'good'\n",
    "Convert 1 through 4 to 'bad'\n",
    "Convert 5 through 9 to 'worse'"
   ]
  },
  {
   "cell_type": "code",
   "execution_count": 133,
   "id": "fantastic-karen",
   "metadata": {},
   "outputs": [
    {
     "name": "stdout",
     "output_type": "stream",
     "text": [
      "0    1749\n",
      "1     613\n",
      "2     367\n",
      "3     380\n",
      "4     476\n",
      "5     282\n",
      "6     101\n",
      "7      41\n",
      "8       4\n",
      "9       4\n",
      "Name: bad_conditions, dtype: int64\n",
      "\n",
      "\n",
      "bad      1836\n",
      "good     1749\n",
      "worse     432\n",
      "Name: rating, dtype: int64\n"
     ]
    }
   ],
   "source": [
    "print(weather.bad_conditions.value_counts().sort_index())\n",
    "\n",
    "# dictionary that maps integers to strings\n",
    "mapping = {0:'good', 1:'bad', 2:'bad', 3:'bad' ,4:'bad' ,5:'worse' ,6:'worse' ,7:'worse' ,8:'worse' ,9:'worse' }\n",
    "\n",
    "# map the 'bad_conditions' integers to strings\n",
    "weather['rating'] = weather.bad_conditions.map(mapping)\n",
    "\n",
    "print('\\n')\n",
    "print(weather.rating.value_counts())"
   ]
  },
  {
   "cell_type": "markdown",
   "id": "colonial-amsterdam",
   "metadata": {},
   "source": [
    "###### Since the rating column only has a few possible values, let's change its data type to category in order to store the data more efficiently. let's also specify a logical order for the categories, which will be useful for future exercises."
   ]
  },
  {
   "cell_type": "code",
   "execution_count": 134,
   "id": "solar-separation",
   "metadata": {},
   "outputs": [
    {
     "name": "stdout",
     "output_type": "stream",
     "text": [
      "0    bad\n",
      "1    bad\n",
      "2    bad\n",
      "3    bad\n",
      "4    bad\n",
      "Name: rating, dtype: category\n",
      "Categories (3, object): ['good' < 'bad' < 'worse']\n"
     ]
    }
   ],
   "source": [
    "from pandas.api.types import CategoricalDtype\n",
    "\n",
    "# Category parameter list\n",
    "cats = ['good', 'bad', 'worse']\n",
    "\n",
    "weather['rating'] = weather.rating.astype(CategoricalDtype(ordered=True, categories=cats))\n",
    "\n",
    "print(weather.rating.head())"
   ]
  },
  {
   "cell_type": "markdown",
   "id": "chief-complex",
   "metadata": {},
   "source": [
    "##### Let's now merge the two dataframes"
   ]
  },
  {
   "cell_type": "code",
   "execution_count": 135,
   "id": "balanced-andrew",
   "metadata": {},
   "outputs": [
    {
     "name": "stdout",
     "output_type": "stream",
     "text": [
      "        stop_datetime   stop_date stop_time driver_gender driver_race  \\\n",
      "0 2005-01-04 12:55:00  2005-01-04     12:55             M       White   \n",
      "1 2005-01-23 23:15:00  2005-01-23     23:15             M       White   \n",
      "2 2005-02-17 04:15:00  2005-02-17     04:15             M       White   \n",
      "3 2005-02-20 17:15:00  2005-02-20     17:15             M       White   \n",
      "4 2005-02-24 01:20:00  2005-02-24     01:20             F       White   \n",
      "\n",
      "                    violation_raw  violation  search_conducted search_type  \\\n",
      "0  Equipment/Inspection Violation  Equipment             False         NaN   \n",
      "1                        Speeding   Speeding             False         NaN   \n",
      "2                        Speeding   Speeding             False         NaN   \n",
      "3                Call for Service      Other             False         NaN   \n",
      "4                        Speeding   Speeding             False         NaN   \n",
      "\n",
      "    stop_outcome  is_arrested stop_duration  drugs_related_stop district  \\\n",
      "0       Citation        False      0-15 Min               False  Zone X4   \n",
      "1       Citation        False      0-15 Min               False  Zone K3   \n",
      "2       Citation        False      0-15 Min               False  Zone X4   \n",
      "3  Arrest Driver         True     16-30 Min               False  Zone X1   \n",
      "4       Citation        False      0-15 Min               False  Zone X3   \n",
      "\n",
      "   frisk  stop_minutes  \n",
      "0  False             8  \n",
      "1  False             8  \n",
      "2  False             8  \n",
      "3  False            23  \n",
      "4  False             8  \n",
      "\n",
      "\n",
      "         DATE rating\n",
      "0  2005-01-01    bad\n",
      "1  2005-01-02    bad\n",
      "2  2005-01-03    bad\n",
      "3  2005-01-04    bad\n",
      "4  2005-01-05    bad\n"
     ]
    }
   ],
   "source": [
    "ri.reset_index(inplace=True)\n",
    "print(ri.head())\n",
    "\n",
    "weather_rating = weather[['DATE', 'rating']]\n",
    "\n",
    "print('\\n')\n",
    "print(weather_rating.head())"
   ]
  },
  {
   "cell_type": "code",
   "execution_count": 136,
   "id": "steady-suite",
   "metadata": {},
   "outputs": [
    {
     "name": "stdout",
     "output_type": "stream",
     "text": [
      "(86536, 16)\n",
      "\n",
      "\n",
      "(86536, 18)\n"
     ]
    }
   ],
   "source": [
    "print(ri.shape)\n",
    "print('\\n')\n",
    "\n",
    "ri_weather = pd.merge(left=ri, right=weather_rating, left_on='stop_date', right_on='DATE', how='left')\n",
    "print(ri_weather.shape)\n",
    "ri_weather.set_index('stop_datetime', inplace=True)"
   ]
  },
  {
   "cell_type": "markdown",
   "id": "robust-framing",
   "metadata": {},
   "source": [
    "### Comparing arrest rates by weather rating\n"
   ]
  },
  {
   "cell_type": "code",
   "execution_count": 137,
   "id": "starting-funeral",
   "metadata": {},
   "outputs": [
    {
     "name": "stdout",
     "output_type": "stream",
     "text": [
      "0.0355690117407784\n",
      "\n",
      "\n",
      "rating\n",
      "good     0.033715\n",
      "bad      0.036261\n",
      "worse    0.041667\n",
      "Name: is_arrested, dtype: float64\n",
      "\n",
      "\n",
      "violation            rating\n",
      "Equipment            good      0.059007\n",
      "                     bad       0.066311\n",
      "                     worse     0.097357\n",
      "Moving violation     good      0.056227\n",
      "                     bad       0.058050\n",
      "                     worse     0.065860\n",
      "Other                good      0.076966\n",
      "                     bad       0.087443\n",
      "                     worse     0.062893\n",
      "Registration/plates  good      0.081574\n",
      "                     bad       0.098160\n",
      "                     worse     0.115625\n",
      "Seat belt            good      0.028587\n",
      "                     bad       0.022493\n",
      "                     worse     0.000000\n",
      "Speeding             good      0.013405\n",
      "                     bad       0.013314\n",
      "                     worse     0.016886\n",
      "Name: is_arrested, dtype: float64\n"
     ]
    }
   ],
   "source": [
    "# overall arrest rate\n",
    "print(ri_weather.is_arrested.mean())\n",
    "print('\\n')\n",
    "\n",
    "# arrest rate for each 'rating'\n",
    "print(ri_weather.groupby('rating').is_arrested.mean())\n",
    "print('\\n')\n",
    "\n",
    "# arrest rate for each 'violation' and 'rating'\n",
    "print(ri_weather.groupby(['violation', 'rating']).is_arrested.mean())"
   ]
  },
  {
   "cell_type": "markdown",
   "id": "aging-joint",
   "metadata": {},
   "source": [
    "#### seems like the arrest rate increases as the weather gets worse, and that trend persists across many of the violation types. This doesn't prove a causal link, but it's quite an interesting result!"
   ]
  },
  {
   "cell_type": "code",
   "execution_count": 138,
   "id": "theoretical-welsh",
   "metadata": {},
   "outputs": [
    {
     "name": "stdout",
     "output_type": "stream",
     "text": [
      "violation            rating\n",
      "Equipment            good      0.059007\n",
      "                     bad       0.066311\n",
      "                     worse     0.097357\n",
      "Moving violation     good      0.056227\n",
      "                     bad       0.058050\n",
      "                     worse     0.065860\n",
      "Other                good      0.076966\n",
      "                     bad       0.087443\n",
      "                     worse     0.062893\n",
      "Registration/plates  good      0.081574\n",
      "                     bad       0.098160\n",
      "                     worse     0.115625\n",
      "Seat belt            good      0.028587\n",
      "                     bad       0.022493\n",
      "                     worse     0.000000\n",
      "Speeding             good      0.013405\n",
      "                     bad       0.013314\n",
      "                     worse     0.016886\n",
      "Name: is_arrested, dtype: float64\n",
      "\n",
      "\n",
      "0.05804964058049641\n",
      "\n",
      "\n",
      "rating\n",
      "good     0.013405\n",
      "bad      0.013314\n",
      "worse    0.016886\n",
      "Name: is_arrested, dtype: float64\n"
     ]
    }
   ],
   "source": [
    "arrest_rate = ri_weather.groupby(['violation', 'rating']).is_arrested.mean()\n",
    "print(arrest_rate)\n",
    "print('\\n')\n",
    "\n",
    "# arrest rate for moving violations in bad weather\n",
    "print(arrest_rate.loc['Moving violation', 'bad']) \n",
    "print('\\n')\n",
    "\n",
    "# arrest rates for speeding violations in all three weather conditions\n",
    "print(arrest_rate.loc['Speeding']) "
   ]
  }
 ],
 "metadata": {
  "kernelspec": {
   "display_name": "Python 3",
   "language": "python",
   "name": "python3"
  },
  "language_info": {
   "codemirror_mode": {
    "name": "ipython",
    "version": 3
   },
   "file_extension": ".py",
   "mimetype": "text/x-python",
   "name": "python",
   "nbconvert_exporter": "python",
   "pygments_lexer": "ipython3",
   "version": "3.7.9"
  }
 },
 "nbformat": 4,
 "nbformat_minor": 5
}
